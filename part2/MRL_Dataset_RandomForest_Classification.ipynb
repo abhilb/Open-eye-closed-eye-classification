{
  "nbformat": 4,
  "nbformat_minor": 5,
  "metadata": {
    "kernelspec": {
      "display_name": "eye dataset analysis",
      "language": "python",
      "name": "eye_dataset"
    },
    "language_info": {
      "codemirror_mode": {
        "name": "ipython",
        "version": 3
      },
      "file_extension": ".py",
      "mimetype": "text/x-python",
      "name": "python",
      "nbconvert_exporter": "python",
      "pygments_lexer": "ipython3",
      "version": "3.8.6"
    },
    "colab": {
      "name": "MRL_Dataset_RandomForest_Classification.ipynb",
      "provenance": []
    }
  },
  "cells": [
    {
      "cell_type": "code",
      "metadata": {
        "id": "5ab81c9e"
      },
      "source": [
        "from pathlib import Path\n",
        "import numpy as np\n",
        "import matplotlib.pyplot as plt\n",
        "import seaborn as sns\n",
        "\n",
        "from sklearn.ensemble import RandomForestClassifier\n",
        "from sklearn.model_selection import train_test_split, cross_val_score\n",
        "from sklearn.model_selection import StratifiedKFold\n",
        "from sklearn.metrics import plot_roc_curve"
      ],
      "id": "5ab81c9e",
      "execution_count": 1,
      "outputs": []
    },
    {
      "cell_type": "markdown",
      "metadata": {
        "id": "8541c7f8"
      },
      "source": [
        "## Load the dataset"
      ],
      "id": "8541c7f8"
    },
    {
      "cell_type": "code",
      "metadata": {
        "id": "SHq4cP_-njQV",
        "outputId": "df8755fb-f0db-4509-e615-3994c59fa5f7",
        "colab": {
          "base_uri": "https://localhost:8080/"
        }
      },
      "source": [
        "!mkdir dataset\n",
        "!gdown https://drive.google.com/uc?id=1JkdFa4fj0DMrDHju7QqC4EiUfJD9Cjws"
      ],
      "id": "SHq4cP_-njQV",
      "execution_count": 12,
      "outputs": [
        {
          "output_type": "stream",
          "text": [
            "mkdir: cannot create directory ‘dataset’: File exists\n",
            "Downloading...\n",
            "From: https://drive.google.com/uc?id=1JkdFa4fj0DMrDHju7QqC4EiUfJD9Cjws\n",
            "To: /content/mrl_dataset.npz\n",
            "696MB [00:05, 130MB/s]\n"
          ],
          "name": "stdout"
        }
      ]
    },
    {
      "cell_type": "code",
      "metadata": {
        "id": "7458da10"
      },
      "source": [
        "dataset_path = Path('mrl_dataset.npz').absolute().resolve()\n",
        "data = np.load(str(dataset_path))\n",
        "X = data['data']\n",
        "y = np.squeeze(data['labels'])\n",
        "data.close()"
      ],
      "id": "7458da10",
      "execution_count": 13,
      "outputs": []
    },
    {
      "cell_type": "markdown",
      "metadata": {
        "id": "b64aa20c"
      },
      "source": [
        "## Split the dataset into training and testing datasets"
      ],
      "id": "b64aa20c"
    },
    {
      "cell_type": "code",
      "metadata": {
        "id": "6b83f41c"
      },
      "source": [
        "X_train, X_test, y_train, y_test = train_test_split(X, y, test_size=0.33, random_state=42)"
      ],
      "id": "6b83f41c",
      "execution_count": 14,
      "outputs": []
    },
    {
      "cell_type": "code",
      "metadata": {
        "id": "d6a366bd",
        "outputId": "12f84d6c-a066-4559-e57e-0fb21d7f163a",
        "colab": {
          "base_uri": "https://localhost:8080/"
        }
      },
      "source": [
        "print(f\"Number of samples in training dataset: {X_train.shape[0]}\")\n",
        "print(f\"Number of samples in testing dataset : {X_test.shape[0]}\")"
      ],
      "id": "d6a366bd",
      "execution_count": 15,
      "outputs": [
        {
          "output_type": "stream",
          "text": [
            "Number of samples in training dataset: 56881\n",
            "Number of samples in testing dataset : 28017\n"
          ],
          "name": "stdout"
        }
      ]
    },
    {
      "cell_type": "markdown",
      "metadata": {
        "id": "719ea863"
      },
      "source": [
        "## Create a Random Forest Classifier"
      ],
      "id": "719ea863"
    },
    {
      "cell_type": "code",
      "metadata": {
        "id": "38b1120e"
      },
      "source": [
        "VERBOSITY = 1"
      ],
      "id": "38b1120e",
      "execution_count": 16,
      "outputs": []
    },
    {
      "cell_type": "code",
      "metadata": {
        "id": "82b8be8a"
      },
      "source": [
        "classifier = RandomForestClassifier(max_depth=3, random_state=42, verbose=VERBOSITY, n_jobs=5)"
      ],
      "id": "82b8be8a",
      "execution_count": 17,
      "outputs": []
    },
    {
      "cell_type": "code",
      "metadata": {
        "id": "fcf640c1",
        "outputId": "80a72d70-e9c9-453c-a948-735ac2b98bca",
        "colab": {
          "base_uri": "https://localhost:8080/"
        }
      },
      "source": [
        "classifier.fit(X_train, y_train)"
      ],
      "id": "fcf640c1",
      "execution_count": 18,
      "outputs": [
        {
          "output_type": "stream",
          "text": [
            "[Parallel(n_jobs=5)]: Using backend ThreadingBackend with 5 concurrent workers.\n",
            "[Parallel(n_jobs=5)]: Done  40 tasks      | elapsed:   14.0s\n",
            "[Parallel(n_jobs=5)]: Done 100 out of 100 | elapsed:   34.1s finished\n"
          ],
          "name": "stderr"
        },
        {
          "output_type": "execute_result",
          "data": {
            "text/plain": [
              "RandomForestClassifier(bootstrap=True, ccp_alpha=0.0, class_weight=None,\n",
              "                       criterion='gini', max_depth=3, max_features='auto',\n",
              "                       max_leaf_nodes=None, max_samples=None,\n",
              "                       min_impurity_decrease=0.0, min_impurity_split=None,\n",
              "                       min_samples_leaf=1, min_samples_split=2,\n",
              "                       min_weight_fraction_leaf=0.0, n_estimators=100, n_jobs=5,\n",
              "                       oob_score=False, random_state=42, verbose=1,\n",
              "                       warm_start=False)"
            ]
          },
          "metadata": {
            "tags": []
          },
          "execution_count": 18
        }
      ]
    },
    {
      "cell_type": "markdown",
      "metadata": {
        "id": "2ad2ba2c"
      },
      "source": [
        "## Check the accuracy of the classifier"
      ],
      "id": "2ad2ba2c"
    },
    {
      "cell_type": "code",
      "metadata": {
        "id": "898b00b3",
        "outputId": "539db58f-1ad0-4834-aad4-cdf96e5b6edc",
        "colab": {
          "base_uri": "https://localhost:8080/"
        }
      },
      "source": [
        "classifier.score(X_test, y_test)"
      ],
      "id": "898b00b3",
      "execution_count": 19,
      "outputs": [
        {
          "output_type": "stream",
          "text": [
            "[Parallel(n_jobs=5)]: Using backend ThreadingBackend with 5 concurrent workers.\n",
            "[Parallel(n_jobs=5)]: Done  40 tasks      | elapsed:    0.1s\n",
            "[Parallel(n_jobs=5)]: Done 100 out of 100 | elapsed:    0.3s finished\n"
          ],
          "name": "stderr"
        },
        {
          "output_type": "execute_result",
          "data": {
            "text/plain": [
              "0.9005960666738052"
            ]
          },
          "metadata": {
            "tags": []
          },
          "execution_count": 19
        }
      ]
    },
    {
      "cell_type": "markdown",
      "metadata": {
        "id": "f7dff928"
      },
      "source": [
        "## Cross Validation "
      ],
      "id": "f7dff928"
    },
    {
      "cell_type": "code",
      "metadata": {
        "id": "9caa51a6",
        "outputId": "7d357ba5-272e-4afc-95c3-4424e8644cd6",
        "colab": {
          "base_uri": "https://localhost:8080/",
          "height": 891
        }
      },
      "source": [
        "cv = StratifiedKFold(n_splits=6)\n",
        "\n",
        "fig, ax = plt.subplots()\n",
        "for i, (train, test) in enumerate(cv.split(X, y)):\n",
        "    classifier.fit(X[train], y[train])\n",
        "    viz = plot_roc_curve(classifier, X[test], y[test],\n",
        "                         name='ROC fold {}'.format(i),\n",
        "                         alpha=0.3, lw=1, ax=ax)\n",
        "plt.show()"
      ],
      "id": "9caa51a6",
      "execution_count": 20,
      "outputs": [
        {
          "output_type": "stream",
          "text": [
            "[Parallel(n_jobs=5)]: Using backend ThreadingBackend with 5 concurrent workers.\n",
            "[Parallel(n_jobs=5)]: Done  40 tasks      | elapsed:   17.0s\n",
            "[Parallel(n_jobs=5)]: Done 100 out of 100 | elapsed:   41.0s finished\n",
            "[Parallel(n_jobs=5)]: Using backend ThreadingBackend with 5 concurrent workers.\n",
            "[Parallel(n_jobs=5)]: Done  40 tasks      | elapsed:    0.0s\n",
            "[Parallel(n_jobs=5)]: Done 100 out of 100 | elapsed:    0.1s finished\n",
            "[Parallel(n_jobs=5)]: Using backend ThreadingBackend with 5 concurrent workers.\n",
            "[Parallel(n_jobs=5)]: Done  40 tasks      | elapsed:   17.1s\n",
            "[Parallel(n_jobs=5)]: Done 100 out of 100 | elapsed:   41.0s finished\n",
            "[Parallel(n_jobs=5)]: Using backend ThreadingBackend with 5 concurrent workers.\n",
            "[Parallel(n_jobs=5)]: Done  40 tasks      | elapsed:    0.1s\n",
            "[Parallel(n_jobs=5)]: Done 100 out of 100 | elapsed:    0.1s finished\n",
            "[Parallel(n_jobs=5)]: Using backend ThreadingBackend with 5 concurrent workers.\n",
            "[Parallel(n_jobs=5)]: Done  40 tasks      | elapsed:   16.5s\n",
            "[Parallel(n_jobs=5)]: Done 100 out of 100 | elapsed:   40.9s finished\n",
            "[Parallel(n_jobs=5)]: Using backend ThreadingBackend with 5 concurrent workers.\n",
            "[Parallel(n_jobs=5)]: Done  40 tasks      | elapsed:    0.1s\n",
            "[Parallel(n_jobs=5)]: Done 100 out of 100 | elapsed:    0.1s finished\n",
            "[Parallel(n_jobs=5)]: Using backend ThreadingBackend with 5 concurrent workers.\n",
            "[Parallel(n_jobs=5)]: Done  40 tasks      | elapsed:   16.5s\n",
            "[Parallel(n_jobs=5)]: Done 100 out of 100 | elapsed:   40.7s finished\n",
            "[Parallel(n_jobs=5)]: Using backend ThreadingBackend with 5 concurrent workers.\n",
            "[Parallel(n_jobs=5)]: Done  40 tasks      | elapsed:    0.1s\n",
            "[Parallel(n_jobs=5)]: Done 100 out of 100 | elapsed:    0.1s finished\n",
            "[Parallel(n_jobs=5)]: Using backend ThreadingBackend with 5 concurrent workers.\n",
            "[Parallel(n_jobs=5)]: Done  40 tasks      | elapsed:   16.6s\n",
            "[Parallel(n_jobs=5)]: Done 100 out of 100 | elapsed:   40.8s finished\n",
            "[Parallel(n_jobs=5)]: Using backend ThreadingBackend with 5 concurrent workers.\n",
            "[Parallel(n_jobs=5)]: Done  40 tasks      | elapsed:    0.1s\n",
            "[Parallel(n_jobs=5)]: Done 100 out of 100 | elapsed:    0.1s finished\n",
            "[Parallel(n_jobs=5)]: Using backend ThreadingBackend with 5 concurrent workers.\n",
            "[Parallel(n_jobs=5)]: Done  40 tasks      | elapsed:   16.5s\n",
            "[Parallel(n_jobs=5)]: Done 100 out of 100 | elapsed:   40.4s finished\n",
            "[Parallel(n_jobs=5)]: Using backend ThreadingBackend with 5 concurrent workers.\n",
            "[Parallel(n_jobs=5)]: Done  40 tasks      | elapsed:    0.1s\n",
            "[Parallel(n_jobs=5)]: Done 100 out of 100 | elapsed:    0.1s finished\n"
          ],
          "name": "stderr"
        },
        {
          "output_type": "display_data",
          "data": {
            "image/png": "[encoded data removed]",
            "text/plain": [
              "<Figure size 432x288 with 1 Axes>"
            ]
          },
          "metadata": {
            "tags": [],
            "needs_background": "light"
          }
        }
      ]
    },
    {
      "cell_type": "markdown",
      "metadata": {
        "id": "f6345d62"
      },
      "source": [
        "## Hyperparameter tuning"
      ],
      "id": "f6345d62"
    },
    {
      "cell_type": "code",
      "metadata": {
        "id": "600e3a4b",
        "outputId": "dbb7c2f5-9aec-4ea5-e49f-67a76d4c47be",
        "colab": {
          "base_uri": "https://localhost:8080/"
        }
      },
      "source": [
        "from sklearn.model_selection import RandomizedSearchCV\n",
        "from pprint import pprint\n",
        "\n",
        "# Number of trees in random forest\n",
        "# n_estimators = [int(x) for x in np.linspace(start=20, stop=200, num=5)]\n",
        "# Number of features to consider at every split\n",
        "# max_features = [\"auto\", \"sqrt\"]\n",
        "# Maximum number of levels in tree\n",
        "max_depth = [int(x) for x in np.linspace(2, 100, num=10, endpoint=True)]\n",
        "# Minimum number of samples required to split a node\n",
        "# min_samples_split = [5, 10]\n",
        "\n",
        "# Create the random grid\n",
        "random_grid = {\n",
        "    # \"n_estimators\": n_estimators,\n",
        "    # \"max_features\": max_features,\n",
        "    \"max_depth\": max_depth,\n",
        "    # \"min_samples_split\": min_samples_split,\n",
        "}\n",
        "\n",
        "pprint(random_grid)"
      ],
      "id": "600e3a4b",
      "execution_count": 26,
      "outputs": [
        {
          "output_type": "stream",
          "text": [
            "{'max_depth': [2, 12, 23, 34, 45, 56, 67, 78, 89, 100]}\n"
          ],
          "name": "stdout"
        }
      ]
    },
    {
      "cell_type": "code",
      "metadata": {
        "id": "2637ba21",
        "outputId": "1d662397-6125-4055-d57e-d8e9427eabc1",
        "colab": {
          "base_uri": "https://localhost:8080/"
        }
      },
      "source": [
        "rf_random = RandomizedSearchCV(\n",
        "    estimator=classifier,\n",
        "    param_distributions=random_grid,\n",
        "    n_iter=10,\n",
        "    cv=10,\n",
        "    verbose=2,\n",
        "    random_state=42,\n",
        "    n_jobs=-1\n",
        ")\n",
        "# Fit the random search model\n",
        "rf_random.fit(X_train, y_train)"
      ],
      "id": "2637ba21",
      "execution_count": 27,
      "outputs": [
        {
          "output_type": "stream",
          "text": [
            "Fitting 10 folds for each of 10 candidates, totalling 100 fits\n"
          ],
          "name": "stdout"
        },
        {
          "output_type": "stream",
          "text": [
            "[Parallel(n_jobs=-1)]: Using backend LokyBackend with 2 concurrent workers.\n",
            "[Parallel(n_jobs=-1)]: Done  37 tasks      | elapsed: 69.0min\n",
            "[Parallel(n_jobs=-1)]: Done 100 out of 100 | elapsed: 240.4min finished\n",
            "[Parallel(n_jobs=5)]: Using backend ThreadingBackend with 5 concurrent workers.\n",
            "[Parallel(n_jobs=5)]: Done  40 tasks      | elapsed:  1.3min\n",
            "[Parallel(n_jobs=5)]: Done 100 out of 100 | elapsed:  3.2min finished\n"
          ],
          "name": "stderr"
        },
        {
          "output_type": "execute_result",
          "data": {
            "text/plain": [
              "RandomizedSearchCV(cv=10, error_score=nan,\n",
              "                   estimator=RandomForestClassifier(bootstrap=True,\n",
              "                                                    ccp_alpha=0.0,\n",
              "                                                    class_weight=None,\n",
              "                                                    criterion='gini',\n",
              "                                                    max_depth=3,\n",
              "                                                    max_features='auto',\n",
              "                                                    max_leaf_nodes=None,\n",
              "                                                    max_samples=None,\n",
              "                                                    min_impurity_decrease=0.0,\n",
              "                                                    min_impurity_split=None,\n",
              "                                                    min_samples_leaf=1,\n",
              "                                                    min_samples_split=2,\n",
              "                                                    min_weight_fraction_leaf=0.0,\n",
              "                                                    n_estimators=100, n_jobs=5,\n",
              "                                                    oob_score=False,\n",
              "                                                    random_state=42, verbose=1,\n",
              "                                                    warm_start=False),\n",
              "                   iid='deprecated', n_iter=10, n_jobs=-1,\n",
              "                   param_distributions={'max_depth': [2, 12, 23, 34, 45, 56, 67,\n",
              "                                                      78, 89, 100]},\n",
              "                   pre_dispatch='2*n_jobs', random_state=42, refit=True,\n",
              "                   return_train_score=False, scoring=None, verbose=2)"
            ]
          },
          "metadata": {
            "tags": []
          },
          "execution_count": 27
        }
      ]
    },
    {
      "cell_type": "code",
      "metadata": {
        "id": "ucm5admp77cn",
        "outputId": "796592b4-6617-4a5b-ea64-7453577905ba",
        "colab": {
          "base_uri": "https://localhost:8080/"
        }
      },
      "source": [
        "rf_random.best_params_"
      ],
      "id": "ucm5admp77cn",
      "execution_count": 28,
      "outputs": [
        {
          "output_type": "execute_result",
          "data": {
            "text/plain": [
              "{'max_depth': 34}"
            ]
          },
          "metadata": {
            "tags": []
          },
          "execution_count": 28
        }
      ]
    },
    {
      "cell_type": "code",
      "metadata": {
        "id": "HaDqcHdo7-9W",
        "outputId": "428b4c49-667d-4b53-e625-e742372d1f98",
        "colab": {
          "base_uri": "https://localhost:8080/"
        }
      },
      "source": [
        "rf_random.best_score_"
      ],
      "id": "HaDqcHdo7-9W",
      "execution_count": 30,
      "outputs": [
        {
          "output_type": "execute_result",
          "data": {
            "text/plain": [
              "0.9783759291687094"
            ]
          },
          "metadata": {
            "tags": []
          },
          "execution_count": 30
        }
      ]
    },
    {
      "cell_type": "code",
      "metadata": {
        "id": "XMkfKx9B8CnC"
      },
      "source": [
        ""
      ],
      "id": "XMkfKx9B8CnC",
      "execution_count": null,
      "outputs": []
    }
  ]
}