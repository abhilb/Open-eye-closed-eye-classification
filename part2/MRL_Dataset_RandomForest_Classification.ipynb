{
 "cells": [
  {
   "cell_type": "code",
   "execution_count": 12,
   "id": "cdf3f71b",
   "metadata": {},
   "outputs": [],
   "source": [
    "from pathlib import Path\n",
    "import numpy as np\n",
    "import matplotlib.pyplot as plt\n",
    "import seaborn as sns\n",
    "\n",
    "from sklearn.ensemble import RandomForestClassifier\n",
    "from sklearn.model_selection import train_test_split\n",
    "from sklearn.metrics import mean_absolute_error"
   ]
  },
  {
   "cell_type": "code",
   "execution_count": 5,
   "id": "f8ec07ef",
   "metadata": {},
   "outputs": [],
   "source": [
    "dataset_path = Path('../dataset/mrl_dataset.npz').absolute().resolve()\n",
    "data = np.load(str(dataset_path))\n",
    "X = data['data']\n",
    "y = data['labels']\n",
    "data.close()"
   ]
  },
  {
   "cell_type": "code",
   "execution_count": 7,
   "id": "820fc516",
   "metadata": {},
   "outputs": [],
   "source": [
    "X_train, X_test, y_train, y_test = train_test_split(X, y, test_size=0.33, random_state=42)"
   ]
  },
  {
   "cell_type": "code",
   "execution_count": 15,
   "id": "f4adece1",
   "metadata": {},
   "outputs": [
    {
     "data": {
      "text/plain": [
       "RandomForestClassifier(max_depth=5, random_state=42)"
      ]
     },
     "execution_count": 15,
     "metadata": {},
     "output_type": "execute_result"
    }
   ],
   "source": [
    "classifier = RandomForestClassifier(max_depth=5, random_state=42)\n",
    "classifier.fit(X_train, np.squeeze(y_train))"
   ]
  },
  {
   "cell_type": "code",
   "execution_count": 17,
   "id": "130fa07c",
   "metadata": {},
   "outputs": [
    {
     "data": {
      "text/plain": [
       "0.9187636078095442"
      ]
     },
     "execution_count": 17,
     "metadata": {},
     "output_type": "execute_result"
    }
   ],
   "source": [
    "classifier.score(X_test, y_test)"
   ]
  }
 ],
 "metadata": {
  "kernelspec": {
   "display_name": "eye dataset analysis",
   "language": "python",
   "name": "eye_dataset"
  },
  "language_info": {
   "codemirror_mode": {
    "name": "ipython",
    "version": 3
   },
   "file_extension": ".py",
   "mimetype": "text/x-python",
   "name": "python",
   "nbconvert_exporter": "python",
   "pygments_lexer": "ipython3",
   "version": "3.8.6"
  }
 },
 "nbformat": 4,
 "nbformat_minor": 5
}
