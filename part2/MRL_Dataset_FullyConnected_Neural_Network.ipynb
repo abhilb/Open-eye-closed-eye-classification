{
  "nbformat": 4,
  "nbformat_minor": 0,
  "metadata": {
    "colab": {
      "name": "MRL_Dataset_FullyConnected_Neural_Network.ipynb",
      "provenance": [],
      "authorship_tag": "ABX9TyM8BGg17XyuoYtghZJSkhaO",
      "include_colab_link": true
    },
    "kernelspec": {
      "name": "python3",
      "display_name": "Python 3"
    },
    "language_info": {
      "name": "python"
    }
  },
  "cells": [
    {
      "cell_type": "markdown",
      "metadata": {
        "id": "view-in-github",
        "colab_type": "text"
      },
      "source": [
        "<a href=\"https://colab.research.google.com/github/abhilb/Open-eye-closed-eye-classification/blob/main/part2/MRL_Dataset_FullyConnected_Neural_Network.ipynb\" target=\"_parent\"><img src=\"https://colab.research.google.com/assets/colab-badge.svg\" alt=\"Open In Colab\"/></a>"
      ]
    },
    {
      "cell_type": "code",
      "metadata": {
        "id": "P_ccg3Sn8flw"
      },
      "source": [
        "from pathlib import Path\n",
        "from tensorflow.keras.layers import Dense, Dropout, Softmax, InputLayer\n",
        "from tensorflow.keras.models import Sequential\n",
        "from tensorflow.keras.optimizers import Adam\n",
        "from tensorflow.keras.losses import BinaryCrossentropy\n",
        "\n",
        "from sklearn.model_selection import train_test_split\n",
        "import numpy as np\n",
        "import matplotlib.pyplot as plt\n",
        "import seaborn as sns"
      ],
      "execution_count": 11,
      "outputs": []
    },
    {
      "cell_type": "code",
      "metadata": {
        "id": "Jh_2c7EB8vFx",
        "colab": {
          "base_uri": "https://localhost:8080/"
        },
        "outputId": "56056750-0da6-46f7-c04e-a230c9340ab8"
      },
      "source": [
        "!gdown https://drive.google.com/uc?id=1JkdFa4fj0DMrDHju7QqC4EiUfJD9Cjws"
      ],
      "execution_count": 3,
      "outputs": [
        {
          "output_type": "stream",
          "text": [
            "Downloading...\n",
            "From: https://drive.google.com/uc?id=1JkdFa4fj0DMrDHju7QqC4EiUfJD9Cjws\n",
            "To: /content/mrl_dataset.npz\n",
            "696MB [00:06, 116MB/s]\n"
          ],
          "name": "stdout"
        }
      ]
    },
    {
      "cell_type": "code",
      "metadata": {
        "id": "dA7ZzyTUAnVr"
      },
      "source": [
        "dataset_path = Path('mrl_dataset.npz').absolute().resolve()\n",
        "data = np.load(str(dataset_path))\n",
        "X = data['data']\n",
        "y = np.squeeze(data['labels'])\n",
        "data.close()"
      ],
      "execution_count": 6,
      "outputs": []
    },
    {
      "cell_type": "code",
      "metadata": {
        "colab": {
          "base_uri": "https://localhost:8080/"
        },
        "id": "u9SRXdp9Atll",
        "outputId": "ed0cc6e6-21f7-4802-92fc-1d6f531d0e71"
      },
      "source": [
        "X_train, X_test, y_train, y_test = train_test_split(X, y, test_size=0.33, random_state=42)\n",
        "print(f\"Number of samples in training dataset: {X_train.shape[0]}\")\n",
        "print(f\"Number of samples in testing dataset : {X_test.shape[0]}\")"
      ],
      "execution_count": 7,
      "outputs": [
        {
          "output_type": "stream",
          "text": [
            "Number of samples in training dataset: 56881\n",
            "Number of samples in testing dataset : 28017\n"
          ],
          "name": "stdout"
        }
      ]
    },
    {
      "cell_type": "code",
      "metadata": {
        "colab": {
          "base_uri": "https://localhost:8080/"
        },
        "id": "yoYH8nRDC-Q1",
        "outputId": "835a54fa-5c36-4d3f-82d2-c080fe65d631"
      },
      "source": [
        "print(f\"Shape of Input: {X_train.shape}\")"
      ],
      "execution_count": 9,
      "outputs": [
        {
          "output_type": "stream",
          "text": [
            "Shape of Input: (56881, 1024)\n"
          ],
          "name": "stdout"
        }
      ]
    },
    {
      "cell_type": "code",
      "metadata": {
        "id": "7Ch4jnQOA6oA"
      },
      "source": [
        "model = Sequential()\n",
        "model.add(InputLayer(input_shape=(1024,)))\n",
        "model.add(Dense(512, activation='relu', name='layer_1'))\n",
        "model.add(Dropout(0.5))\n",
        "model.add(Dense(256, activation='relu', name='layer_2'))\n",
        "model.add(Dropout(0.5))\n",
        "model.add(Dense(128, activation='relu', name='layer_3'))\n",
        "model.add(Dropout(0.5))\n",
        "model.add(Dense(64, activation='relu', name='layer_4'))\n",
        "model.add(Dropout(0.5))\n",
        "model.add(Dense(2, activation='relu', name='layer_5'))\n",
        "model.add(Softmax())"
      ],
      "execution_count": 13,
      "outputs": []
    },
    {
      "cell_type": "code",
      "metadata": {
        "id": "rdanU5wQCEAh"
      },
      "source": [
        "opt = Adam(learning_rate=0.001)\n",
        "loss = BinaryCrossentropy()\n",
        "metrics = ['accuracy']\n",
        "model.compile(optimizer=opt, loss=loss, metrics=metrics)"
      ],
      "execution_count": 15,
      "outputs": []
    },
    {
      "cell_type": "code",
      "metadata": {
        "colab": {
          "base_uri": "https://localhost:8080/"
        },
        "id": "rEBZIlqtQmkW",
        "outputId": "c2bd68bb-8164-482a-c72b-b3602763d1a2"
      },
      "source": [
        "model.summary()"
      ],
      "execution_count": 16,
      "outputs": [
        {
          "output_type": "stream",
          "text": [
            "Model: \"sequential_2\"\n",
            "_________________________________________________________________\n",
            "Layer (type)                 Output Shape              Param #   \n",
            "=================================================================\n",
            "layer_1 (Dense)              (None, 512)               524800    \n",
            "_________________________________________________________________\n",
            "dropout (Dropout)            (None, 512)               0         \n",
            "_________________________________________________________________\n",
            "layer_2 (Dense)              (None, 256)               131328    \n",
            "_________________________________________________________________\n",
            "dropout_1 (Dropout)          (None, 256)               0         \n",
            "_________________________________________________________________\n",
            "layer_3 (Dense)              (None, 128)               32896     \n",
            "_________________________________________________________________\n",
            "dropout_2 (Dropout)          (None, 128)               0         \n",
            "_________________________________________________________________\n",
            "layer_4 (Dense)              (None, 64)                8256      \n",
            "_________________________________________________________________\n",
            "dropout_3 (Dropout)          (None, 64)                0         \n",
            "_________________________________________________________________\n",
            "layer_5 (Dense)              (None, 2)                 130       \n",
            "_________________________________________________________________\n",
            "softmax (Softmax)            (None, 2)                 0         \n",
            "=================================================================\n",
            "Total params: 697,410\n",
            "Trainable params: 697,410\n",
            "Non-trainable params: 0\n",
            "_________________________________________________________________\n"
          ],
          "name": "stdout"
        }
      ]
    },
    {
      "cell_type": "code",
      "metadata": {
        "id": "x-GoufHIQyoy"
      },
      "source": [
        ""
      ],
      "execution_count": null,
      "outputs": []
    }
  ]
}