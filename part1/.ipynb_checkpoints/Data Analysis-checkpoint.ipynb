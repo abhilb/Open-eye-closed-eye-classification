{
 "cells": [
  {
   "cell_type": "code",
   "execution_count": 1,
   "id": "ad21194a",
   "metadata": {},
   "outputs": [],
   "source": [
    "from pathlib import Path\n",
    "import imageio\n",
    "import matplotlib.pyplot as plt\n",
    "import seaborn as sns"
   ]
  },
  {
   "cell_type": "code",
   "execution_count": 2,
   "id": "1d0af242",
   "metadata": {},
   "outputs": [
    {
     "data": {
      "text/plain": [
       "True"
      ]
     },
     "execution_count": 2,
     "metadata": {},
     "output_type": "execute_result"
    }
   ],
   "source": [
    "data_path = Path(r'C:\\dev\\datasets\\mrlEyes_2018_01')\n",
    "data_path.exists()\n"
   ]
  },
  {
   "cell_type": "code",
   "execution_count": 4,
   "id": "66578199",
   "metadata": {},
   "outputs": [
    {
     "data": {
      "text/plain": [
       "84898"
      ]
     },
     "execution_count": 4,
     "metadata": {},
     "output_type": "execute_result"
    }
   ],
   "source": [
    "image_files = [x.name for x in data_path.rglob(\"*.png\")]\n",
    "len(image_files)"
   ]
  },
  {
   "cell_type": "code",
   "execution_count": 5,
   "id": "c627c249",
   "metadata": {},
   "outputs": [
    {
     "data": {
      "text/plain": [
       "'Total number of images 84898'"
      ]
     },
     "execution_count": 5,
     "metadata": {},
     "output_type": "execute_result"
    }
   ],
   "source": [
    "f\"Total number of images {len(image_files)}\""
   ]
  },
  {
   "cell_type": "code",
   "execution_count": null,
   "id": "26b5a953",
   "metadata": {},
   "outputs": [],
   "source": []
  }
 ],
 "metadata": {
  "kernelspec": {
   "display_name": "eye dataset analysis",
   "language": "python",
   "name": "eye_dataset"
  },
  "language_info": {
   "codemirror_mode": {
    "name": "ipython",
    "version": 3
   },
   "file_extension": ".py",
   "mimetype": "text/x-python",
   "name": "python",
   "nbconvert_exporter": "python",
   "pygments_lexer": "ipython3",
   "version": "3.8.6"
  }
 },
 "nbformat": 4,
 "nbformat_minor": 5
}
