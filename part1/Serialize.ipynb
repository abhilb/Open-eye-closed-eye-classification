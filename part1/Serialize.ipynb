{
 "cells": [
  {
   "cell_type": "markdown",
   "id": "787e5ce9",
   "metadata": {},
   "source": [
    "# Serialize the dataset into a numpy array"
   ]
  },
  {
   "cell_type": "code",
   "execution_count": null,
   "id": "ec6b9659",
   "metadata": {},
   "outputs": [],
   "source": [
    "from pathlib import Path\n",
    "import numpy as np\n",
    "import imageio\n",
    "import pandas as pd\n",
    "import matplotlib.pyplot as plt\n",
    "import re\n",
    "from tqdm import tqdm\n",
    "import seaborn as sns\n",
    "sns.set()\n",
    "from skimage.transform import resize"
   ]
  },
  {
   "cell_type": "code",
   "execution_count": null,
   "id": "e8b0d5ff",
   "metadata": {},
   "outputs": [],
   "source": [
    "data_path = Path(r'C:\\dev\\datasets\\mrlEyes_2018_01')\n",
    "filenames = [x for x in data_path.rglob('*.png')]\n",
    "len(filenames)"
   ]
  },
  {
   "cell_type": "code",
   "execution_count": null,
   "id": "30d72dfd",
   "metadata": {},
   "outputs": [],
   "source": [
    "pattern = re.compile(r\"\\S{5}_\\d+_\\d{1}_\\d{1}_(?P<eye_state>\\d{1})_\\d{1}_\\d{1}_\\d{2}\")\n",
    "IMG_HEIGHT = 32\n",
    "IMG_WIDTH = 32\n",
    "nb_images = len(filenames)\n",
    "y = np.empty((nb_images, 1))\n",
    "X = np.empty((nb_images, IMG_HEIGHT * IMG_WIDTH))\n",
    "\n",
    "for idx in tqdm(range(nb_images)):\n",
    "    fname = filenames[idx]\n",
    "    match = pattern.match(fname.name)\n",
    "    img_data = imageio.imread(fname)\n",
    "\n",
    "    X[idx] = np.ravel(resize(img_data, (IMG_HEIGHT, IMG_WIDTH)))\n",
    "    y[idx] = int(match.group(\"eye_state\"))\n",
    "print(X.shape, y.shape)"
   ]
  },
  {
   "cell_type": "code",
   "execution_count": null,
   "id": "84c2f1af",
   "metadata": {},
   "outputs": [],
   "source": [
    "np.savez('mrl_dataset.npz', data=X, labels=y)"
   ]
  }
 ],
 "metadata": {
  "kernelspec": {
   "display_name": "eye dataset analysis",
   "language": "python",
   "name": "eye_dataset"
  },
  "language_info": {
   "codemirror_mode": {
    "name": "ipython",
    "version": 3
   },
   "file_extension": ".py",
   "mimetype": "text/x-python",
   "name": "python",
   "nbconvert_exporter": "python",
   "pygments_lexer": "ipython3",
   "version": "3.8.6"
  }
 },
 "nbformat": 4,
 "nbformat_minor": 5
}
